{
 "cells": [
  {
   "cell_type": "markdown",
   "metadata": {},
   "source": [
    "# AWS Client Analysis\n",
    "\n",
    "\n",
    "### Objective: \n",
    "- Scrape AWS case study webpage to get 2020 AWS clients\n",
    "\n",
    "#### Functions in this notebooks:\n",
    "- Similar to the `collect_data` notebook but it pulls from HMTL using the selenium library"
   ]
  },
  {
   "cell_type": "code",
   "execution_count": 1,
   "metadata": {},
   "outputs": [],
   "source": [
    "import os\n",
    "import time\n",
    "import pprint\n",
    "import pickle\n",
    "import requests\n",
    "import pandas as pd"
   ]
  },
  {
   "cell_type": "markdown",
   "metadata": {},
   "source": [
    "<font color=red>__Please note that the code cell _below_ was used in getting the data__. I did this on my local machine to retrieve the data. All other cells should run as I have included the retrieved data in my data folder.</font> "
   ]
  },
  {
   "cell_type": "code",
   "execution_count": 2,
   "metadata": {},
   "outputs": [],
   "source": [
    "# from selenium import webdriver\n",
    "# from selenium.webdriver.chrome.options import Options\n",
    "# from webdriver_manager.chrome import ChromeDriverManager"
   ]
  },
  {
   "cell_type": "code",
   "execution_count": 3,
   "metadata": {},
   "outputs": [],
   "source": [
    "os.chdir(\"/Commjhub/jupyterhub/comm318_fall2019/daniellegin/comm318_F20/comm318_F20_Final_Project\")"
   ]
  },
  {
   "cell_type": "code",
   "execution_count": 4,
   "metadata": {},
   "outputs": [],
   "source": [
    "class Company:\n",
    "\n",
    "    def __init__(self, name, year, sector):\n",
    "\n",
    "        self.name = name\n",
    "        self.year = year\n",
    "        self.sector = sector\n",
    "\n",
    "    def __str__(self):\n",
    "        return \"{}: {}\\t{}: {}\\t{}: {}\".format(\n",
    "            \"Year\", self.year,\n",
    "            \"Name\", self.name,\n",
    "            \"Sector\", self.sector\n",
    "        )"
   ]
  },
  {
   "cell_type": "code",
   "execution_count": 5,
   "metadata": {},
   "outputs": [],
   "source": [
    "def get_driver(startup_url):\n",
    "    options = Options()\n",
    "    options.add_argument(\"window-size={},{}\".format(1280, 1000))\n",
    "    driver = webdriver.Chrome(ChromeDriverManager().install(), options=options)\n",
    "    if startup_url:\n",
    "        driver.get(startup_url)\n",
    "    return driver"
   ]
  },
  {
   "cell_type": "code",
   "execution_count": 6,
   "metadata": {},
   "outputs": [],
   "source": [
    "def get_year(web_element):\n",
    "    return web_element.find_elements_by_class_name(\"m-info-txt\")[0].text"
   ]
  },
  {
   "cell_type": "code",
   "execution_count": 7,
   "metadata": {},
   "outputs": [],
   "source": [
    "def get_name(web_element):\n",
    "    img_list = web_element.find_elements_by_tag_name(\"img\")\n",
    "    if len(img_list) == 0:\n",
    "        return None\n",
    "    return img_list[0].get_attribute(\"alt\")"
   ]
  },
  {
   "cell_type": "code",
   "execution_count": 8,
   "metadata": {},
   "outputs": [],
   "source": [
    "def get_sector(web_element):\n",
    "    return web_element.find_elements_by_class_name(\"m-category\")[0].text"
   ]
  },
  {
   "cell_type": "code",
   "execution_count": 9,
   "metadata": {},
   "outputs": [],
   "source": [
    "def get_company_list():\n",
    "\n",
    "    driver = get_driver(startup_url=\"https://aws.amazon.com/solutions/case-studies/?customer-references-cards.sort-by=item.additionalFields.publishedDate&customer-references-cards.sort-order=desc&awsf.customer-references-location=location%23americas&customer-references-cards.q=2020&customer-references-cards.q_operator=AND&awsm.page-customer-references-cards=1\")\n",
    "\n",
    "    page_count = 1\n",
    "    company_list = []\n",
    "    while True:\n",
    "        time.sleep(.5)\n",
    "\n",
    "        div_list = driver.find_elements_by_class_name(\"m-card-container\")\n",
    "        print(\"Reading Page {}: {} articles found!\".format(page_count, len(div_list)))\n",
    "        page_count += 1\n",
    "\n",
    "        for div in div_list:\n",
    "            year = get_year(div)\n",
    "            name = get_name(div)\n",
    "            sector = get_sector(div)\n",
    "            if name is not None:\n",
    "                company_list.append(Company(name, year, sector))\n",
    "\n",
    "        try:\n",
    "            driver.find_elements_by_class_name(\"m-icon-angle-right\")[0].click()\n",
    "        except:\n",
    "            break\n",
    "    return company_list"
   ]
  },
  {
   "cell_type": "code",
   "execution_count": 10,
   "metadata": {},
   "outputs": [],
   "source": [
    "def save_companies(company_list):\n",
    "    save_dir = \"data/company_data\"\n",
    "    for i, company in enumerate(company_list):\n",
    "        print(\"Attempting to save {}... \".format(company), end=\"\")\n",
    "        save_file_path = \"{}/company_{}.p\".format(save_dir, i)\n",
    "        if not os.path.exists(save_file_path):\n",
    "            pickle.dump(company, open(save_file_path, \"wb\"))\n",
    "            print(\"saved!\")\n",
    "        else:\n",
    "            print(\"exists!\")"
   ]
  },
  {
   "cell_type": "code",
   "execution_count": 11,
   "metadata": {},
   "outputs": [],
   "source": [
    "def get_saved_companies(source_dir):\n",
    "    company_list = []\n",
    "    for file_name in os.listdir(source_dir):\n",
    "        file_path = source_dir + \"/\" + file_name\n",
    "        if file_name[-2:] == \".p\" and os.path.getsize(file_path) > 0:\n",
    "            company_list.append(pickle.load(open(file_path, \"rb\")))\n",
    "    return company_list"
   ]
  },
  {
   "cell_type": "code",
   "execution_count": 12,
   "metadata": {},
   "outputs": [],
   "source": [
    "def main():\n",
    "    # company_list = get_company_list()\n",
    "    # save_companies(company_list)\n",
    "\n",
    "    company_list = get_saved_companies(source_dir=\"data/company_data\")\n",
    "\n",
    "    grouped_company_list_dict = {}\n",
    "    for company in company_list:\n",
    "        if company.sector in grouped_company_list_dict:\n",
    "            grouped_company_list_dict[company.sector].append(company)\n",
    "        else:\n",
    "            grouped_company_list_dict[company.sector] = [company]\n",
    "    grouped_company_list_dict = dict(reversed(sorted(grouped_company_list_dict.items(), key=lambda item: len(item[1]))))\n",
    "\n",
    "    print(\"Number of sectors: {}\".format(len(grouped_company_list_dict)))\n",
    "    for i, key in enumerate(grouped_company_list_dict):\n",
    "        print(\"\\t{}: {} in sector\".format(key, len(grouped_company_list_dict[key])))\n",
    "        if i < 3:\n",
    "            for company in grouped_company_list_dict[key]:\n",
    "                print(\"\\t\\t{}\".format(company.name))"
   ]
  },
  {
   "cell_type": "markdown",
   "metadata": {},
   "source": [
    "# 2020 AWS Clients And Their Sectors\n"
   ]
  },
  {
   "cell_type": "code",
   "execution_count": 13,
   "metadata": {},
   "outputs": [],
   "source": [
    "# main()"
   ]
  },
  {
   "cell_type": "code",
   "execution_count": null,
   "metadata": {},
   "outputs": [],
   "source": []
  }
 ],
 "metadata": {
  "kernelspec": {
   "display_name": "Python 3",
   "language": "python",
   "name": "python3"
  },
  "language_info": {
   "codemirror_mode": {
    "name": "ipython",
    "version": 3
   },
   "file_extension": ".py",
   "mimetype": "text/x-python",
   "name": "python",
   "nbconvert_exporter": "python",
   "pygments_lexer": "ipython3",
   "version": "3.7.3"
  }
 },
 "nbformat": 4,
 "nbformat_minor": 2
}
