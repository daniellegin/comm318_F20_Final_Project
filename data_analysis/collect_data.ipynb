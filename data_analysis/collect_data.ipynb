{
 "cells": [
  {
   "cell_type": "markdown",
   "metadata": {},
   "source": [
    "# Collect Data\n",
    "\n",
    "### Objective: \n",
    "- use the `yfinance` library to retrieve and download stock data. \n",
    "\n",
    "#### Functions in this notebooks:\n",
    "1. download_ticker_data(): downloads the stock data of the past 5 years and saves it. If the data already exists, it will not redownload the data. \n",
    "2. do_FAANG_download(): focuses on getting the FAANG stock information, creating the Stock objects, and saving those into the data folder. filters the downloaded data for cleaner analysis\n",
    "3. do_AWS_client_download(): focuses on getting the AWS client stock information, creating the Stock objects, and saving those into the data folderfilters the downloaded data for cleaner analysis"
   ]
  },
  {
   "cell_type": "code",
   "execution_count": 1,
   "metadata": {},
   "outputs": [
    {
     "name": "stdout",
     "output_type": "stream",
     "text": [
      "/Commjhub/jupyterhub/comm318_fall2019/daniellegin/comm318_F20/comm318_F20_Final_Project\n"
     ]
    }
   ],
   "source": [
    "import os\n",
    "os.chdir(\"/Commjhub/jupyterhub/comm318_fall2019/daniellegin/comm318_F20/comm318_F20_Final_Project\")\n",
    "print(os.getcwd())"
   ]
  },
  {
   "cell_type": "code",
   "execution_count": 2,
   "metadata": {},
   "outputs": [],
   "source": [
    "%run data_analysis/Stock.ipynb"
   ]
  },
  {
   "cell_type": "code",
   "execution_count": 3,
   "metadata": {},
   "outputs": [],
   "source": [
    "import yfinance as yf\n",
    "import pandas as pd\n",
    "import pickle\n",
    "import pprint"
   ]
  },
  {
   "cell_type": "code",
   "execution_count": 4,
   "metadata": {
    "scrolled": true
   },
   "outputs": [],
   "source": [
    "pretty = pprint.PrettyPrinter(indent=4)\n",
    "pd.set_option('display.max_columns', None)\n",
    "\n",
    "\n",
    "def download_ticker_data(ticker_list, save_dir):\n",
    "\n",
    "    for ticker_name in ticker_list:\n",
    "        ticker_name = ticker_name.upper()\n",
    "        ticker = yf.Ticker(ticker_name)\n",
    "        temp_stock = Stock(\n",
    "            ticker_name,\n",
    "            ticker.info,\n",
    "            ticker.history(period=\"5y\")\n",
    "        )\n",
    "        stock_file_path = \"{}/{} stock.p\".format(save_dir, ticker_name)\n",
    "        print(\"Attempting to save {}... \".format(ticker_name), end=\"\")\n",
    "        if not os.path.exists(stock_file_path):\n",
    "            pickle.dump(temp_stock, open(stock_file_path, \"wb\"))\n",
    "            print(\"saved!\")\n",
    "        else:\n",
    "            print(\"exists!\")\n",
    "\n",
    "\n",
    "\n"
   ]
  },
  {
   "cell_type": "code",
   "execution_count": 5,
   "metadata": {},
   "outputs": [],
   "source": [
    "def do_FAANG_download():\n",
    "    ticker_list = [\n",
    "        \"FB\",\n",
    "        \"AMZN\",\n",
    "        \"AAPL\",\n",
    "        \"NFLX\",\n",
    "        \"GOOG\"\n",
    "    ]\n",
    "    download_ticker_data(ticker_list, \"data/FAANG_stocks\")"
   ]
  },
  {
   "cell_type": "code",
   "execution_count": 6,
   "metadata": {},
   "outputs": [],
   "source": [
    "def do_AWS_client_download():\n",
    "    ticker_list = [\n",
    "        \"DBX\",\n",
    "        \"ADSK\",\n",
    "        \"INTU\",\n",
    "        \"SUMO\",\n",
    "        \"GDDY\"\n",
    "    ]\n",
    "    download_ticker_data(ticker_list, \"data/AWS_client_stocks\")"
   ]
  },
  {
   "cell_type": "code",
   "execution_count": null,
   "metadata": {},
   "outputs": [],
   "source": []
  }
 ],
 "metadata": {
  "kernelspec": {
   "display_name": "Python 3",
   "language": "python",
   "name": "python3"
  },
  "language_info": {
   "codemirror_mode": {
    "name": "ipython",
    "version": 3
   },
   "file_extension": ".py",
   "mimetype": "text/x-python",
   "name": "python",
   "nbconvert_exporter": "python",
   "pygments_lexer": "ipython3",
   "version": "3.7.3"
  }
 },
 "nbformat": 4,
 "nbformat_minor": 2
}
