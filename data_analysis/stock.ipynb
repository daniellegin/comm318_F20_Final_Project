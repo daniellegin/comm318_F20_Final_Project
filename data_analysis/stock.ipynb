{
 "cells": [
  {
   "cell_type": "markdown",
   "metadata": {},
   "source": [
    "# Stock Class\n",
    "The Stock class allows us to store the data taken from the `collect_data` notebook."
   ]
  },
  {
   "cell_type": "code",
   "execution_count": 1,
   "metadata": {},
   "outputs": [],
   "source": [
    "class Stock:\n",
    "\n",
    "    def __init__(self, ticker, info_dict, history_df):\n",
    "\n",
    "        self.ticker = ticker\n",
    "        self.info_dict = info_dict\n",
    "        self.history_df = history_df\n",
    "\n",
    "        self.company_name = self.info_dict[\"shortName\"]"
   ]
  },
  {
   "cell_type": "code",
   "execution_count": null,
   "metadata": {},
   "outputs": [],
   "source": []
  }
 ],
 "metadata": {
  "kernelspec": {
   "display_name": "Python 3",
   "language": "python",
   "name": "python3"
  },
  "language_info": {
   "codemirror_mode": {
    "name": "ipython",
    "version": 3
   },
   "file_extension": ".py",
   "mimetype": "text/x-python",
   "name": "python",
   "nbconvert_exporter": "python",
   "pygments_lexer": "ipython3",
   "version": "3.7.3"
  }
 },
 "nbformat": 4,
 "nbformat_minor": 2
}
