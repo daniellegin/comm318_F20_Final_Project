{
 "cells": [
  {
   "cell_type": "markdown",
   "metadata": {},
   "source": [
    "# Get Functions\n",
    "\n",
    "### Objective:\n",
    "- \"get functions\" that retrieve specific stock data from the dataset\n",
    "\n",
    "#### Functions:\n",
    "1. get_stock_list(stock_dir): takes in a stock directory and creates a list of all the Stock objects in that directory\n",
    "2. graph_x_list_and_y_list(x_list, y_list, label): uses matplotlib library to make it easier to graph data\n",
    "3. get_FAANG_stocks(): gets the FAANG Stock objects from the downloaded folders \n",
    "4. get_AWS_client_stocks(): gets the AWS client Stock objects from the downloaded folders"
   ]
  },
  {
   "cell_type": "code",
   "execution_count": 1,
   "metadata": {},
   "outputs": [],
   "source": [
    "import os\n",
    "\n",
    "os.chdir(\"/Commjhub/jupyterhub/comm318_fall2019/daniellegin/comm318_F20/comm318_F20_Final_Project\")"
   ]
  },
  {
   "cell_type": "code",
   "execution_count": 2,
   "metadata": {},
   "outputs": [],
   "source": [
    "%run data_analysis/Stock.ipynb"
   ]
  },
  {
   "cell_type": "code",
   "execution_count": 3,
   "metadata": {},
   "outputs": [],
   "source": [
    "import pickle\n",
    "import os\n",
    "\n",
    "\n",
    "def get_stock_list(stock_dir):\n",
    "\n",
    "    stock_list = []\n",
    "    data_dir = os.getcwd() + \"/\" + stock_dir\n",
    "    for file_name in os.listdir(data_dir):\n",
    "        if file_name[-2:] == \".p\":\n",
    "            file_path = data_dir + \"/\" + file_name\n",
    "            temp_stock = pickle.load(open(file_path, \"rb\"))\n",
    "            stock_list.append(temp_stock)\n",
    "    return stock_list\n"
   ]
  },
  {
   "cell_type": "code",
   "execution_count": 4,
   "metadata": {},
   "outputs": [],
   "source": [
    "import matplotlib.pyplot as plt\n",
    "\n",
    "\n",
    "def graph_x_list_and_y_list(x_list, y_list, label):\n",
    "    plt.plot(x_list, y_list, label=label)\n",
    "    "
   ]
  },
  {
   "cell_type": "code",
   "execution_count": null,
   "metadata": {},
   "outputs": [],
   "source": [
    "def get_FAANG_stocks():\n",
    "    return get_stock_list(\"data/FAANG_stocks\")"
   ]
  },
  {
   "cell_type": "code",
   "execution_count": null,
   "metadata": {},
   "outputs": [],
   "source": [
    "def get_AWS_client_stocks():\n",
    "    return get_stock_list(\"data/AWS_client_stocks\")"
   ]
  }
 ],
 "metadata": {
  "kernelspec": {
   "display_name": "Python 3",
   "language": "python",
   "name": "python3"
  },
  "language_info": {
   "codemirror_mode": {
    "name": "ipython",
    "version": 3
   },
   "file_extension": ".py",
   "mimetype": "text/x-python",
   "name": "python",
   "nbconvert_exporter": "python",
   "pygments_lexer": "ipython3",
   "version": "3.7.3"
  }
 },
 "nbformat": 4,
 "nbformat_minor": 2
}
