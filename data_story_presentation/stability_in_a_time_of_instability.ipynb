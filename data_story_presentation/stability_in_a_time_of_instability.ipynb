{
 "cells": [
  {
   "cell_type": "markdown",
   "metadata": {
    "slideshow": {
     "slide_type": "slide"
    }
   },
   "source": [
    "![](img/amazon_logo.png)\n",
    "<div style=\"font-size: 12px; text-align: center; line-height: 1.2; margin-bottom: 20px;\">\n",
    "    Logo by Amazon<br/>\n",
    "    https://lh3.googleusercontent.com/proxy/ha2PlV9p_Tj8cL3_unChVIVq3w2TrPCgYN5zWQyPFKaPxpNk-4B_BLw77A1ZpSaXUOgRLmSAf6X81yOMD_6A2B0hpU5QM6JSsQT_LmNwC63zi0hhIh4s-_N9-wObUzggfoDuIImMu3sFd7agpkokiJBGQt9fiyM\n",
    "</div>\n",
    "\n",
    "\n",
    "# Stability In A Time of Instability\n",
    "How Amazon Manages to Thrive in 2020"
   ]
  },
  {
   "cell_type": "markdown",
   "metadata": {
    "slideshow": {
     "slide_type": "slide"
    }
   },
   "source": [
    "__Danielle Gin__  \n",
    "F20-COMM-318"
   ]
  },
  {
   "cell_type": "markdown",
   "metadata": {
    "slideshow": {
     "slide_type": "slide"
    }
   },
   "source": [
    "### Technology before COVID-19\n",
    "For the past decade, the technology sector has been a promising and growing industry for investors. Many investors have been keeping their eyes on new tech start-ups, as well as maintaining their investments on the tech giants. With innovation and technology based companies, the US stock market was in the lead and the economy seemed to be getting better... Until the world fell into chaos due to the coronavirus pandemic in 2020. "
   ]
  },
  {
   "cell_type": "markdown",
   "metadata": {
    "slideshow": {
     "slide_type": "slide"
    }
   },
   "source": [
    "### 2020: What A Year\n",
    "In March 2020, the entire stock market dropped. Grocery stores were empty, cleaning supplies were sold out, and toilet paper was the new gold. The world was in lockdown and no one knew what was to come. During this time of instability, investor hectically reassessed their investments and reconsidered moving their equities around. I think it is pretty clear to say that 2020 was an uncertain and unstable time-- especially for the stock market. "
   ]
  },
  {
   "cell_type": "markdown",
   "metadata": {
    "slideshow": {
     "slide_type": "slide"
    }
   },
   "source": [
    "### Technology Reliance\n",
    "However, as a result of the lockdown, everyone went online. Companies made employees work from home. Schools closed and went online. Stores and restaurants only allowed curbside pickup. All in-person interactions were heavily limited. This lockdown meant more reliance on technology. Companies like Zoom did really well as everyone substituted face-to-face interactions with it. Streaming services like Netflix and Disney+ shot up with viewers as everyone just stayed home and streamed media. Online shopping and delivery was higher than ever to minimize going outside.\n",
    "<br><br>\n",
    " \n",
    "\n",
    "\n",
    "![](img/FAANG_historical_closing_prices.png)\n",
    "<div style=\"font-size: 12px; text-align: center; line-height: 1.2; margin-bottom: 20px;\">\n",
    "    Graph created by Danielle Gin<br/>\n",
    "    \n",
    "</div>\n",
    "\n",
    "<div class=\"alert alert-block alert-success\">\n",
    "<b>Take Away:</b> While the rest of the market seemed so uncertain and unstable, the technology industry was thriving-- especially the giants like Facebook, Apple, Amazon, Netflix, and Google (or FAANG).\n",
    "</div>"
   ]
  },
  {
   "cell_type": "markdown",
   "metadata": {},
   "source": [
    "### FAANG Stocks Are _Still_ Thriving\n",
    "\n",
    "> _\"FAANG is an acronym that stands for five major, highly successful US tech companies: Facebook, Amazon, Apple, Netflix, and Google. \" ([Business Insider](https://www.businessinsider.com/what-is-faang#:~:text=FAANG%20is%20an%20acronym%20that,via%20tech%20industry%2Dfocused%20funds.), 2020)._ \n",
    "\n",
    "The graph above shows the closing prices of the FAANG stocks in the _past 5 years_. The stock data has been taken from the [Yahoo Finance](https://finance.yahoo.com/) library. In this simple analysis, we will assume that stock price indicates the companies' overall performance. The more expensive the stock price, the better the company is performing. \n",
    "\n",
    "In the past 5 years (2016-2020), we can see an overall growth in the technology sector. However, it is very interesting to see that in the year 2020, some technology companies seem to have grown even more. Specifically, Amazon and Google (Alphabet) have grown greatly-- aside from the dips in March 2020 and September 2020. From this graph alone, it seems as if Apple and Facebook did not have much growth. However, this could be due to Amazon and Google's huge growth. Regardless, we can see the despite the uncertain times of 2020, the FAANG stocks were resilient and stable. In fact, some would say these stocks grow _more_ in 2020..\n",
    "  \n",
    "    \n",
    "We will look more into the stocks individually. "
   ]
  },
  {
   "cell_type": "markdown",
   "metadata": {},
   "source": [
    "# How Do We Know If FAANG Stocks Are Still Good?\n",
    "\n",
    "Let's create some metrics to determine whether these FAANG stocks are doing well. A common retrospective analysis investors use is a __trading analysis__. There are a few steps to conduct this analysis:\n",
    "\n",
    "1. Look into each stocks' 2020 performance\n",
    "2. Conduct Moving Average Strategy\n",
    "3. Count the Buy Sell Opportunities\n",
    "4. Analyzing and looking for next steps\n"
   ]
  },
  {
   "cell_type": "markdown",
   "metadata": {},
   "source": [
    "__Step 1__. The graphs below show the closing prices of the FAANG stocks within 2020. This allows us to have to closer look into the performances of each stock. \n",
    "\n",
    "![](img/FAANG_2020_performance.png)\n",
    "<div style=\"font-size: 12px; text-align: center; line-height: 1.2; margin-center: 20px;\">\n",
    "    Graphs created by Danielle Gin<br/>\n",
    "    \n",
    "</div>"
   ]
  },
  {
   "cell_type": "markdown",
   "metadata": {},
   "source": [
    "All in all, the FAANG stocks seem to be correlated in their performance. Although were was a dip in March (to be frank, the entire market dipped), FAANG stocks quickly came back and grew more. It is important to note that the y-axis(price) of each graph is different. For example, Apple's lowest and highest price was around \\\\$50 and \\\\$140, respectively. Conversely, Amazon's lowest and highest price was around \\\\$1650 and \\\\$3550, respectively. Therefore, although all the stocks seem to have similar trends, the prices vary greatly.\n",
    "\n",
    "\n",
    "<div class=\"alert alert-block alert-success\">\n",
    "<b>Take Away:</b> So yes, FAANG stocks are still doing really well.\n",
    "</div>"
   ]
  },
  {
   "cell_type": "markdown",
   "metadata": {},
   "source": [
    "# Moving Average Strategy On *Each* FAANG Stock.\n",
    "Still not convinced? Fine, let's get more technical.  \n",
    "<br>\n",
    "__Step 2__. In addition to the closing prices, we can also look at buy/sell opportunities within the FAANG stocks of 2020. For this analysis, we will use a simple __Moving Average Strategy__ to determine how frequently a stock should be bought or sold.\n",
    "> _\"The __moving average (MA)__ is a simple technical analysis tool that smooths out price data by creating a constantly updated average price. The average is taken over a specific period of time, like 10 days, 20 minutes, 30 weeks or any time period the trader chooses\" ([Investopedia](http://www.investopedia.com/articles/active-trading/052014/how-use-moving-average-buy-stocks.asp), 2020)._ \n",
    "\n",
    "\n",
    "The code below calculates the moving average (MA). This will smooth out the trend lines and allow us to conduct the Moving Average Strategy. The longer the period of time, the smoother the line.\n",
    "\n",
    "### What is the Moving Average Strategy? \n",
    "The Moving Average Strategy uses two different MA time periods. For this analysis, we used __5 days and 25 days__. Finance analysts will look at points in which these two MAs intersect. At the point of the two MA intersections, if the short-term MA has a positive slope, then this strategy recommends you __buy__. If not, you __sell__. \n",
    "\n"
   ]
  },
  {
   "cell_type": "markdown",
   "metadata": {},
   "source": [
    "### Buy & Sell Frequency per Stock\n",
    "__Step 3.__ Count the Buy Sell Opportunities\n",
    "Let's graph each stock's closing price, 5 Day MA, and 25 Day MA. \n",
    "- <font color=purple>__Purple dots__</font>: Points of intersection (each purple dot either has a red down arrow or green up arrow)\n",
    "- <font color=red>__Red down arrows__</font>: points to __sell__.\n",
    "- <font color=green>__Green up arrows__</font>: points to __buy__.\n",
    "- <font color=lightblue>__Light blue lines__</font>: Closing price line.\n",
    "- <font color=orange>__Orange lines__</font>: 5 Day MA line.\n",
    "- <font color=lightgreen>__Light green lines__</font>: 25 Day MA line."
   ]
  },
  {
   "cell_type": "markdown",
   "metadata": {},
   "source": [
    "\n",
    "\n",
    "![](img/FAANG_2020_MA.png)\n",
    "<div style=\"font-size: 12px; text-align: center; line-height: 1.2; margin-center: 20px;\">\n",
    "    Graphs created by Danielle Gin<br/>\n",
    "    \n",
    "</div>"
   ]
  },
  {
   "cell_type": "markdown",
   "metadata": {},
   "source": [
    "After conducting the Moving Average Strategy, we can see the intersections of the two MA lines. The longer the MA period of time, the \"smoother\" the lines will get. However, picking 5 days and 25 days allows us to assess the prices roughly once a week and once a month. These lengths of time smooths out the line without ignoring all the peaks and troughs during these unstable, volatile times. \n",
    "\n",
    "Facebook was the most volatile during 2020. Netflix and Apple were similar in volatility. As we can see, __Google__ (Alphabet) and __Amazon__ has the least count. Therefore, they are the _least volatile_ among the FAANG stocks.\n",
    "- Stock: Alphabet Inc.\n",
    "    - Buy Count: 4\n",
    "    - Sell Count: 4\n",
    "- Stock: Amazon.com, Inc.\n",
    "    - Buy Count: 4\n",
    "    - Sell Count: 5\n",
    "\n",
    "![](img/amazon_2020_MA.png)\n",
    "<div style=\"font-size: 12px; text-align: center; line-height: 1.2; margin-center: 20px;\">\n",
    "    Graph created by Danielle Gin<br/>\n",
    "    \n",
    "</div>\n",
    "\n",
    " \n",
    "\n",
    "<div class=\"alert alert-block alert-success\">\n",
    "<b>Take Away:</b> Moreover, Amazon has a longer period without a buy and sell opportunity (between March 2020 to September 2020). This means that there was a longer period of time in which Amazon was more stable. Especially in such uncertain times, Amazon stocks look very attractive; it is stable and worth a lot. What could've attributed to Amazon's stable and high stock performance... especially during the most uncertain times of the pandemic? Perhaps there was an increase in the searches for online retail.\n",
    "</div>"
   ]
  },
  {
   "cell_type": "markdown",
   "metadata": {},
   "source": [
    "# The Retail Giant: Amazon"
   ]
  },
  {
   "cell_type": "markdown",
   "metadata": {},
   "source": [
    "In May 2019, Forbes published the article \"[Amazon has surpassed Walmart as the biggest retailer on the planet.\"](https://www.forbes.com/sites/laurendebter/2019/05/15/worlds-largest-retailers-2019-amazon-walmart-alibaba/?sh=144aee014171).  Whether you're a Prime member or not, it is clear that Amazon dominates the retail space. And now, more than ever, online retail is the largest thing. As mentioned previously, Amazon has been doing really well in the past decade. However, the question still stands: how is Amazon still so stable during a world pandemic? "
   ]
  },
  {
   "cell_type": "markdown",
   "metadata": {},
   "source": [
    "One way to see if there was an increase in online retail on Amazon is using Google Trends. Google Trends allows us to gauge users' interest in a keyword. By analyzing the keyword interest trends, we can see if there were more individuals searching for Amazon. The 5 more popular keywords would be: prime, shipping, online shopping, delivery, amazon. \n"
   ]
  },
  {
   "cell_type": "markdown",
   "metadata": {},
   "source": [
    "#### Graph legends\n",
    "- <font color=blue> __Blue line__</font>: Searches of keywords as a percent \n",
    "- <font color=orange>__Orange line__</font>: Linear regression\n",
    "\n",
    "<font color=red> It's important to note that: the search metric of that keyword is a percentage relative to the most searched within the time frame.</font>\n",
    "\n",
    "![](img/amazon_googletrends.png)\n",
    "<div style=\"font-size: 12px; text-align: center; line-height: 1.2; margin-center: 10px;\">\n",
    "    Graphs created by Danielle Gin<br/>\n",
    "    \n",
    "</div>\n",
    "\n",
    "As we can see, all five keywords seem to have an upward trend since 2017. Overall, there are more individuals searching up Amazon keywords each year. Let's look into each of the five keywords and see if there are any changes in 2020."
   ]
  },
  {
   "cell_type": "markdown",
   "metadata": {},
   "source": [
    "We can see that \"prime\" has a seasonal trend. January and July consistently have peaks each year. However, in 2020, the typical pattern changes. There is another peak in March 2020 (possibly due to COVID and Stay-At-Home). October 2020 is the max interest at 100, suggesting that Amazon's Prime Day did exceptionally well.\n",
    "\n",
    "Again, there is a seasonal trend for the word \"shipping.\" During the holiday season, Google Trends notes the higher interest in shipping-- probably due to shipping gifts and holiday deals like Black Friday and Christmas. Once again, 2020 does not follow the usual pattern, with high peaks since March 2020. The lowest point of 2020 is high in comparison to previous years' lows. There have been news about delayed shipping due to COVID, and this greatly impacts Amazon Prime's two-day shipping. However, it seems like Amazon's business was still stable during these unprecedented times.\n",
    "\n",
    "Among the five keywords, \"online shopping\" may have the smallest increase based on the regression line. Additionally, there does not seem to be an obvious annual pattern like we see in the first two keywords. This may be due to the fact that online shopping is not only associated with Amazon. Therefore, this keyword's slight increase in interest does not suggest much to Amazon's performance and overall interest. \n",
    "\n",
    "First, \"delivery\" had a _huge_ peak in March 2020. The next highest peak was in March 2019 at 45%. The interest was very high in March 2020 because deliveries were uncertain during a world crisis. Additionally, note that the blue line overlaps the orange line quite closely until 2020. Since 2020, there is more volatility in the interest. Moreover, 2020's lowest interest is still relatively high in comparison to previous years' lows.\n",
    "\n",
    "We can see that \"prime\" and \"amazon\" have similar seasonal trends-- it's practically identical. The regression lines almost have the same slopes. The major difference is that Prime has higher peaks in relation to the lows. January and July consistently have peaks each year. Once again, the change of pattern in 2020 is almost the same too. This suggests that those interested in Prime are probably interested in Amazon too. "
   ]
  },
  {
   "cell_type": "markdown",
   "metadata": {},
   "source": [
    "# As Expected, Amazon Retail Is Doing Well. Now What?\n",
    "After looking into the Google Trends data, the results do not seem that surprising. Amazon is doing well. People rely on Amazon for many of their online retail needs. However, could individuals who are using Amazon for online shopping be the only reason we see Amazon thriving during these times? In addition to being a large retail giant, Amazon also hosts cloud resources. \n",
    "[__Amazon Web Services, or AWS__](https://aws.amazon.com/free/?trk=ps_a131L0000085EJvQAM&trkCampaign=acq_paid_search_brand&sc_channel=ps&sc_campaign=acquisition_US&sc_publisher=google&sc_category=core-main&sc_country=US&sc_geo=NAMER&sc_outcome=acq&sc_detail=aws&sc_content=Brand_Core_aws_e&sc_segment=432339156150&sc_medium=ACQ-P|PS-GO|Brand|Desktop|SU|Core-Main|Core|US|EN|Text&s_kwcid=AL!4422!3!432339156150!e!!g!!aws&ef_id=CjwKCAiA8ov_BRAoEiwAOZogwf3rYIRBRV8lp_giQY4dLzNtu-Ae08sQE4Rfex4CabM-14Htrqu9sBoCtHcQAvD_BwE:G:s&s_kwcid=AL!4422!3!432339156150!e!!g!!aws&all-free-tier.sort-by=item.additionalFields.SortRank&all-free-tier.sort-order=asc), provides technology solutions for many companies. "
   ]
  },
  {
   "cell_type": "markdown",
   "metadata": {},
   "source": [
    "The migration towards the Cloud has been happening for the past decade. However, AWS incentivizes companies to just outsource their server management. This may be a point of interest in understanding Amazon's success towards stability. Amazon has gotten 141 new clients in 2020. Let's take a look at these companies' performance and see if it says anything about Amazon."
   ]
  },
  {
   "cell_type": "markdown",
   "metadata": {},
   "source": [
    "# AWS Clients And The Amazon Wave\n",
    "Within the larger sector of AWS's 2020 clients, Software and Internet is the largest. Among the companies using AWS, Dropbox, Autodesk, Intuit, Sumo Logic, and GoDaddy are public. Let's look at their performance."
   ]
  },
  {
   "cell_type": "markdown",
   "metadata": {},
   "source": [
    "\n",
    "![](img/AWS_historical_closing_prices.png)\n",
    "<div style=\"font-size: 12px; text-align: center; line-height: 1.2; margin-center: 10px;\">\n",
    "    Graphs created by Danielle Gin<br/>\n",
    "    \n",
    "</div>\n",
    "\n",
    "Intuit and Autodesk have grown more in 2020 than they did in 2019. Although slight, GoDaddy also had a slight increase in comparison to 2019. Interestingly, Dropbox seems to be steady. Note that there was no dip in March for Dropbox. Although there is no huge growth, the company did not under-perform when other companies did. Lastly, Sumo Logic's data is inconclusive because it went public in the last quarter of 2020."
   ]
  },
  {
   "cell_type": "markdown",
   "metadata": {},
   "source": [
    "They are not the only companies that are shifting to AWS. With the convenience of AWS, many companies are riding the Amazon wave. Especially due to COVID, there has been a push for more technology support in all aspects of our lives-- including companies. \n",
    "\n",
    ">AWS's Ceo recently said that \"AWS has officially surpassed $40 billion in annual revenue, and not at a leisurely pace. AWS added an incremental \\\\$10 billion in revenue in 12 months, faster than ever\" ([Geek Wire](https://www.geekwire.com/2020/reaching-40b-revenue-record-time-amazon-web-services-hints-reinvention/#:~:text=Kicking%20off%20the%20annual%20Amazon,not%20at%20a%20leisurely%20pace.), 2020).\n",
    "\n",
    "Companies like Zoom use AWS. As this world pandemic pushes our society to rely more on technologies, it seems as if Amazon supports the consumer and maintenance side of this socially-distanced lifestyle. "
   ]
  },
  {
   "cell_type": "markdown",
   "metadata": {},
   "source": [
    "# Riding The Amazon Wave: Stability in a time of Instability"
   ]
  },
  {
   "cell_type": "markdown",
   "metadata": {},
   "source": [
    "So, what are the takeaways?\n",
    "- If you're an investor who keeps seeing the warnings towards FAANG stocks, I hope this article shows how the technologies sector is growing faster than ever. Specifically, a tech giant like Amazon as it is the grounds for this technology driven transition.\n",
    "- If you're interested in investing in the tech space but feel unsure about the stock market, you can see that this industry seems stable given the world pandemic.\n",
    "- If you're a company seeking stability, partner with Amazon.\n",
    "\n",
    "_This article explores the technology sector, highlights the high-performing FAANG stocks, and breaks down Amazon's success. If you're seeking stability in this time of instability, ride the Amazon wave._"
   ]
  }
 ],
 "metadata": {
  "kernelspec": {
   "display_name": "Python 3",
   "language": "python",
   "name": "python3"
  },
  "language_info": {
   "codemirror_mode": {
    "name": "ipython",
    "version": 3
   },
   "file_extension": ".py",
   "mimetype": "text/x-python",
   "name": "python",
   "nbconvert_exporter": "python",
   "pygments_lexer": "ipython3",
   "version": "3.7.3"
  }
 },
 "nbformat": 4,
 "nbformat_minor": 2
}
